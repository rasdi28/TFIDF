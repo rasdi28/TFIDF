{
  "nbformat": 4,
  "nbformat_minor": 0,
  "metadata": {
    "colab": {
      "name": "dasar dasar text mining.ipynb",
      "provenance": [],
      "authorship_tag": "ABX9TyNDovH+mne3XRLL4do8W3uO",
      "include_colab_link": true
    },
    "kernelspec": {
      "name": "python3",
      "display_name": "Python 3"
    }
  },
  "cells": [
    {
      "cell_type": "markdown",
      "metadata": {
        "id": "view-in-github",
        "colab_type": "text"
      },
      "source": [
        "<a href=\"https://colab.research.google.com/github/rasdi28/TFIDF/blob/master/dasar_dasar_text_mining.ipynb\" target=\"_parent\"><img src=\"https://colab.research.google.com/assets/colab-badge.svg\" alt=\"Open In Colab\"/></a>"
      ]
    },
    {
      "cell_type": "markdown",
      "metadata": {
        "id": "OLUybfjC6-ES",
        "colab_type": "text"
      },
      "source": [
        "**Memecah kalimat kedalam kata kata**"
      ]
    },
    {
      "cell_type": "code",
      "metadata": {
        "id": "baXCTY-V4ca6",
        "colab_type": "code",
        "colab": {
          "base_uri": "https://localhost:8080/",
          "height": 34
        },
        "outputId": "9331f5ce-077f-4200-a4e0-fe4208f5325d"
      },
      "source": [
        "# Importing necessary library\n",
        "import pandas as pd\n",
        "import numpy as np\n",
        "import nltk\n",
        "import os\n",
        "import nltk.corpus\n",
        "# sample text for performing tokenization\n",
        "text = \"hello rasdi, what are u doing rasdi\"\n",
        "# importing word_tokenize from nltk\n",
        "from nltk.tokenize import word_tokenize\n",
        "# Passing the string text into word tokenize for breaking the sentences\n",
        "token = word_tokenize(text)\n",
        "token"
      ],
      "execution_count": 10,
      "outputs": [
        {
          "output_type": "execute_result",
          "data": {
            "text/plain": [
              "['hello', 'rasdi', ',', 'what', 'are', 'u', 'doing', 'rasdi']"
            ]
          },
          "metadata": {
            "tags": []
          },
          "execution_count": 10
        }
      ]
    },
    {
      "cell_type": "markdown",
      "metadata": {
        "id": "yMgbS0F67NgR",
        "colab_type": "text"
      },
      "source": [
        "**melihat frekuensi munculnya kata**"
      ]
    },
    {
      "cell_type": "code",
      "metadata": {
        "id": "5HpPY25h5H91",
        "colab_type": "code",
        "colab": {
          "base_uri": "https://localhost:8080/",
          "height": 136
        },
        "outputId": "cd589584-c44f-4afd-f436-8fdc16dfc2b9"
      },
      "source": [
        "from nltk.probability import FreqDist\n",
        "fdist = FreqDist(token)\n",
        "fdist"
      ],
      "execution_count": 11,
      "outputs": [
        {
          "output_type": "execute_result",
          "data": {
            "text/plain": [
              "FreqDist({',': 1,\n",
              "          'are': 1,\n",
              "          'doing': 1,\n",
              "          'hello': 1,\n",
              "          'rasdi': 2,\n",
              "          'u': 1,\n",
              "          'what': 1})"
            ]
          },
          "metadata": {
            "tags": []
          },
          "execution_count": 11
        }
      ]
    },
    {
      "cell_type": "code",
      "metadata": {
        "id": "qbmLNLHC6nG6",
        "colab_type": "code",
        "colab": {}
      },
      "source": [
        ""
      ],
      "execution_count": 0,
      "outputs": []
    }
  ]
}